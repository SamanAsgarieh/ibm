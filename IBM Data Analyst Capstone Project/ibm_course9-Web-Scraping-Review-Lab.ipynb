{
 "cells": [
  {
   "cell_type": "markdown",
   "metadata": {},
   "source": [
    "<center>\n",
    "    <img src=\"https://gitlab.com/ibm/skills-network/courses/placeholder101/-/raw/master/labs/module%201/images/IDSNlogo.png\" width=\"300\" alt=\"cognitiveclass.ai logo\"  />\n",
    "</center>\n"
   ]
  },
  {
   "cell_type": "markdown",
   "metadata": {},
   "source": [
    "# **Web Scraping Lab**\n"
   ]
  },
  {
   "cell_type": "markdown",
   "metadata": {},
   "source": [
    "Estimated time needed: **30** minutes\n"
   ]
  },
  {
   "cell_type": "markdown",
   "metadata": {},
   "source": [
    "## Objectives\n"
   ]
  },
  {
   "cell_type": "markdown",
   "metadata": {},
   "source": [
    "After completing this lab you will be able to:\n"
   ]
  },
  {
   "cell_type": "markdown",
   "metadata": {},
   "source": [
    "-   Download a webpage using requests module\n",
    "-   Scrape all links from a web page\n",
    "-   Scrape all image urls from a web page\n",
    "-   Scrape data from html tables\n"
   ]
  },
  {
   "cell_type": "markdown",
   "metadata": {},
   "source": [
    "## Scrape [www.ibm.com](http://www.ibm.com?cm_mmc=Email_Newsletter-_-Developer_Ed%2BTech-_-WW_WW-_-SkillsNetwork-Courses-IBM-DA0321EN-SkillsNetwork-21426264&cm_mmca1=000026UJ&cm_mmca2=10006555&cm_mmca3=M12345678&cvosrc=email.Newsletter.M12345678&cvo_campaign=000026UJ&cm_mmc=Email_Newsletter-_-Developer_Ed%2BTech-_-WW_WW-_-SkillsNetwork-Courses-IBM-DA0321EN-SkillsNetwork-21426264&cm_mmca1=000026UJ&cm_mmca2=10006555&cm_mmca3=M12345678&cvosrc=email.Newsletter.M12345678&cvo_campaign=000026UJ)\n"
   ]
  },
  {
   "cell_type": "markdown",
   "metadata": {},
   "source": [
    "Import the required modules and functions\n"
   ]
  },
  {
   "cell_type": "code",
   "execution_count": 1,
   "metadata": {},
   "outputs": [],
   "source": [
    "from bs4 import BeautifulSoup # this module helps in web scrapping.\n",
    "import requests  # this module helps us to download a web page"
   ]
  },
  {
   "cell_type": "markdown",
   "metadata": {},
   "source": [
    "Download the contents of the web page\n"
   ]
  },
  {
   "cell_type": "code",
   "execution_count": 2,
   "metadata": {},
   "outputs": [],
   "source": [
    "url = \"http://www.ibm.com\""
   ]
  },
  {
   "cell_type": "code",
   "execution_count": 3,
   "metadata": {},
   "outputs": [],
   "source": [
    "# get the contents of the webpage in text format and store in a variable called data\n",
    "data  = requests.get(url).text "
   ]
  },
  {
   "cell_type": "markdown",
   "metadata": {},
   "source": [
    "Create a soup object using the class BeautifulSoup\n"
   ]
  },
  {
   "cell_type": "code",
   "execution_count": 4,
   "metadata": {},
   "outputs": [],
   "source": [
    "soup = BeautifulSoup(data,\"html5lib\")  # create a soup object using the variable 'data'"
   ]
  },
  {
   "cell_type": "markdown",
   "metadata": {},
   "source": [
    "Scrape all links\n"
   ]
  },
  {
   "cell_type": "code",
   "execution_count": 5,
   "metadata": {},
   "outputs": [
    {
     "name": "stdout",
     "output_type": "stream",
     "text": [
      "https://www.ibm.com/ca/en\n",
      "\n",
      "https://www.ibm.com/ca-en/products?lnk=hpmps_bupr_caen&lnk2=link\n",
      "https://www.ibm.com/industries?lnk=hpmps_buin_caen&lnk2=link\n",
      "https://www.ibm.com/artificial-intelligence?lnk=hpmps_buai_caen&lnk2=link\n",
      "https://www.ibm.com/automation?lnk=hpmps_buau_caen&lnk2=link\n",
      "https://www.ibm.com/blockchain?lnk=hpmps_bubc_caen&lnk2=link\n",
      "https://www.ibm.com/business-operations?lnk=hpmps_buop_caen&lnk2=link\n",
      "https://www.ibm.com/cloud?lnk=hpmps_bucl_caen&lnk2=link\n",
      "https://www.ibm.com/analytics?lnk=hpmps_buda_caen&lnk2=link\n",
      "https://www.ibm.com/it-infrastructure?lnk=hpmps_buit_caen&lnk2=link\n",
      "https://www.ibm.com/security?lnk=hpmps_buse_caen&lnk2=link\n",
      "https://www.ibm.com/supply-chain?lnk=hpmps_busc_caen&lnk2=link\n",
      "https://www.ibm.com/financing?lnk=hpmps_bufi_caen&lnk2=link\n",
      "https://www.ibm.com/ca-en/products?lnk=hpmps_buall_caen&lnk2=link\n",
      "\n",
      "https://www.ibm.com/services/process?lnk=hpmsc_bups_caen&lnk2=link\n",
      "https://www.ibm.com/services/ibmix/?lnk=hpmsc_budbs_caen&lnk2=link\n",
      "https://www.ibm.com/services/cloud?lnk=hpmsc_buhs?lnk=hpmsc_buhs_caen\n",
      "https://www.ibm.com/talent-management?lnk=hpmsc_buta_caen&lnk2=link\n",
      "https://www.ibm.com/services/applications?lnk=hpmsc_buas_caen&lnk2=link\n",
      "https://www.ibm.com/garage?lnk=hpmsc_buas_caen&lnk2=link\n",
      "https://www.ibm.com/security/services?lnk=hpmsc_buse_caen&lnk2=link\n",
      "https://www.ibm.com/services/technology-support?lnk=hpmsc_busv_caen&lnk2=link\n",
      "https://www.ibm.com/financing/solutions/it-services-financing?lnk=hpmsc_bufi_caen&lnk2=link\n",
      "https://www.ibm.com/services?lnk=hpmsc_buall_caen&lnk2=link\n",
      "\n",
      "https://www.ibm.com/support/ca/en/?lnk=hpmls_busu_caen&lnk2=link\n",
      "https://www.ibm.com/support/knowledgecenter/?lnk=hpmls_budc_caen&lnk2=link\n",
      "https://developer.ibm.com/?lnk=hpmls_bude_caen&lnk2=link\n",
      "https://www.ibm.com/training/?lnk=hpmls_butr_caen&lnk2=link\n",
      "https://www.ibm.com/blogs/?lnk=hpmls_bure_caen&lnk2=link\n",
      "https://www.ibm.com/cloud/learn?lnk=hpmls_buwi_caen&lnk2=link\n",
      "\n",
      "https://www.ibm.com/partnerworld/public?lnk=hpmex_bupa_caen&lnk2=link\n",
      "https://www.research.ibm.com/?lnk=hpmex_bure_caen&lnk2=link\n",
      "https://www.ibm.com/about?lnk=hpmex_buab_caen&lnk2=link\n",
      "https://www.ibm.com/impact/covid-19?lnk=hpmex_buco_caen&lnk2=link\n",
      "https://www.ibm.com/sitemap/ca/en\n",
      "/ca-en/node/1706826\n",
      "https://www.ibm.com/blogs/ibm-canada/2021/03/hybrid-cloud-the-new-normal-for-enterprise-transformation/?utm_medium=OSocial&utm_source=Blog&utm_content=000039VE&utm_term=10007446&utm_id=Hybrid-Cloud-Blog-EN%3Flnk%3Dhpv18l2\n",
      "https://1.dam.s81c.com/public/content/dam/worldwide-content/homepage/ul/g/fb/1a/IDC%20IBV%20Test%202%20fog%202%20dark.jpg\n",
      "https://1.dam.s81c.com/public/content/dam/worldwide-content/homepage/ul/g/41/46/IDC_IBV_Study_Canada_Leadspace_Mobile.jpg\n",
      "https://1.dam.s81c.com/m/7401c562cef06861/original/Culinary_think.jpg\n",
      "https://www.ibm.com/downloads/cas/WB85LVL0?utm_medium=OSocial&utm_source=Blog&utm_content=000040UV&utm_term=10014626&utm_id=SocialLeadDHIDCCloudServices2021HOMEPAGE%3Flnk%3Dhpv18l1\n",
      "/taxonomy/term/85416\n",
      "/ca-en/node/2384286\n",
      "https://www.ibm.com/ca-en/events/emerge-smarter?lnk=hpv18nf\n",
      "/taxonomy/term/85416\n",
      "/ca-en/node/1706851\n",
      "/ca-en/node/1706831\n",
      "/ca-en/node/1706836\n",
      "/ca-en/node/1706841\n",
      "/ca-en/node/1706846\n",
      "/taxonomy/term/85416\n",
      "/ca-en/node/1706821\n",
      "/taxonomy/term/85416\n",
      "https://www.ibm.com/employment/ca/en/?lnk=fab\n",
      "/ca-en/node/1706816\n",
      "https://www.ibm.com/ca-en/products/offers-and-discounts?link=caenhpv18t5&lnk2=trial_mktpl_MPDISC\n",
      "/ca-en/node/1706801\n",
      "/ca-en/node/2281350\n",
      "/ca-en/node/1706796\n",
      "/ca-en/node/2281352\n",
      "/taxonomy/term/85416\n",
      "/ca-en/node/1706866\n",
      "/ca-en/node/1706861\n",
      "/taxonomy/term/85416\n",
      "/ca-en/products\n",
      "https://www.ibm.com/downloads/cas/WB85LVL0?utm_medium=OSocial&utm_source=Blog&utm_content=000040UV&utm_term=10014626&utm_id=SocialLeadDHIDCCloudServices2021HOMEPAGE%3Flnk%3Dhpv18l1\n",
      "https://www.ibm.com/blogs/ibm-canada/2021/03/hybrid-cloud-the-new-normal-for-enterprise-transformation/?utm_medium=OSocial&utm_source=Blog&utm_content=000039VE&utm_term=10007446&utm_id=Hybrid-Cloud-Blog-EN%3Flnk%3Dhpv18l2\n",
      "https://www.ibm.com/downloads/cas/WB85LVL0?utm_medium=OSocial&utm_source=Blog&utm_content=000040UV&utm_term=10014626&utm_id=SocialLeadDHIDCCloudServices2021HOMEPAGE%3Flnk%3Dhpv18l1\n",
      "https://www.ibm.com/blogs/ibm-canada/2021/03/hybrid-cloud-the-new-normal-for-enterprise-transformation/?utm_medium=OSocial&utm_source=Blog&utm_content=000039VE&utm_term=10007446&utm_id=Hybrid-Cloud-Blog-EN%3Flnk%3Dhpv18l2\n",
      "https://developer.ibm.com/callforcode/?lnk=hpv18f1\n",
      "https://www.ibm.com/products/maximo-visual-inspection-mobile?lnk=hpv18f2\n",
      "https://www.ibm.com/blogs/ibm-canada/2021/03/water-and-technology-a-sustainable-future/?utm_medium=OSocial&utm_source=Blog&utm_content=000040UV&utm_term=10014626&utm_id=COMMSWorldWaterDayClaudeBlogEN---HOMEPAGE%3Flnk%3Dhpv18f3\n",
      "https://www.ibm.com/security/data-breach/threat-intelligence?utm_medium=OSocial&utm_source=Blog&utm_content=000040UV&utm_term=10014626&utm_id=SocialLeadDHXForceEN-HOMEPAGE%3Flnk%3Dhpv18f3%3Flnk%3Dhpv18f4\n",
      "https://www.ibm.com/ca-en/products/offers-and-discounts?link=caenhpv18t5&lnk2=trial_mktpl_MPDISC\n",
      "https://www.ibm.com/ca-en/products/cloud-pak-for-security?lnk=STW_CA_HPT_T1_BLK&psrc=NONE&pexp=DEF&lnk2=trial_CloudPakSec\n",
      "https://www.ibm.com/ca-en/cloud/cloud-pak-for-business-automation?lnk=STW_CA_HPT_T2_BLK&psrc=NONE&pexp=DEF&lnk2=trial_CloudPakBusAuto\n",
      "https://www.ibm.com/ca-en/products/robotic-process-automation?lnk=STW_CA_HPT_T3_BLK&psrc=NONE&pexp=DEF&lnk2=trial_RoboProcessAuto\n",
      "https://www.ibm.com/ca-en/products/planning-analytics?lnk=STW_CA_HPT_T4_BLK&psrc=NONE&pexp=DEF&lnk2=trial_PlanningAnalytics\n",
      "https://www.ibm.com/search?lang=en&amp;cc=ca&amp;q=\n",
      "/ca-en/products\n",
      "/ca-en/products\n",
      "//www.ibm.com/ca-en/products/category/technology/analytics\n",
      "//www.ibm.com/ca-en/products/category/technology/cloud-computing\n",
      "//www.ibm.com/ca-en/products/category/technology/mobile-technology\n",
      "//www.ibm.com/ca-en/products/category/technology/cognitive-computing-and-AI\n",
      "//www.ibm.com/ca-en/products/category/technology/IT-infrastructure\n",
      "//www.ibm.com/ca-en/products/category/technology/security\n",
      "//www.ibm.com/ca-en/products/category/technology/blockchain\n",
      "//www.ibm.com/ca-en/products/category/technology/IT-management\n",
      "//www.ibm.com/ca-en/products/category/technology/software-development\n",
      "//www.ibm.com/ca-en/products/category/technology/analytics\n",
      "//www.ibm.com/ca-en/products/category/technology/cloud-computing\n",
      "//www.ibm.com/ca-en/products/category/technology/mobile-technology\n",
      "//www.ibm.com/ca-en/products/category/technology/cognitive-computing-and-AI\n",
      "//www.ibm.com/ca-en/products/category/technology/IT-infrastructure\n",
      "//www.ibm.com/ca-en/products/category/technology/security\n",
      "//www.ibm.com/ca-en/products/category/technology/blockchain\n",
      "//www.ibm.com/ca-en/products/category/technology/IT-management\n",
      "//www.ibm.com/ca-en/products/category/technology/software-development\n",
      "//www.ibm.com/ca-en/products/category/business/business-operations\n",
      "//www.ibm.com/ca-en/products/category/business/content-management\n",
      "//www.ibm.com/ca-en/products/category/business/human-resources\n",
      "//www.ibm.com/ca-en/products/category/business/collaboration\n",
      "//www.ibm.com/ca-en/products/category/business/customer-service-and-CRM\n",
      "//www.ibm.com/ca-en/products/category/business/marketing\n",
      "//www.ibm.com/ca-en/products/category/business/commerce\n",
      "//www.ibm.com/ca-en/products/category/business/finance\n",
      "//www.ibm.com/ca-en/products/category/business/supply-chain-management\n",
      "https://www.ibm.com/ca-en/cloud/cloud-pak-for-watson-aiops?lnk=hpv18cs1\n",
      "https://www.ibm.com/ca-en/cloud/cloud-pak-for-watson-aiops?lnk=hpv18cs1\n",
      "https://www.ibm.com/ca-en/cloud/cloud-pak-for-watson-aiops?lnk=hpv18cs1\n",
      "##\n",
      "https://www.ibm.com/ca-en/cloud/cloud-pak-for-watson-aiops?lnk=hpv18cs1\n",
      "https://www.ibm.com/ca-en/cloud/cloud-pak-for-watson-aiops?lnk=hpv18cs1\n",
      "##\n",
      "https://www.ibm.com/ca-en/cloud/cloud-pak-for-watson-aiops?lnk=hpv18cs1\n",
      "https://www.ibm.com/ca-en/cloud/cloud-pak-for-watson-aiops?lnk=hpv18cs1\n",
      "https://www.ibm.com/ca-en/cloud/cloud-pak-for-watson-aiops?lnk=hpv18cs1\n",
      "https://www.ibm.com/employment/ca/en/?lnk=fab\n",
      "https://www.ibm.com/employment/ca/en/?lnk=fab\n",
      "https://www.ibm.com/ca-en/products?lnk=fdi-caen\n",
      "https://www.ibm.com/services/en-us/?lnk=fdi\n",
      "https://www.ibm.com/industries/en-us/?lnk=fdi\n",
      "https://www.ibm.com/case-studies?lnk=fdi\n",
      "https://www.ibm.com/partnerworld/wps/servlet/ContentHandler/partnerworld-home?lnk=mdev_pw_caen&lnk2=learn\n",
      "https://www.ibm.com/support/home/?lnk=msu_usen\n",
      "https://www.ibm.com/partnerworld/wps/bplocator/search.jsp?lnk=fcw-caen\n",
      "https://www.ibm.com/employment/ca/en/?lnk=fab_caen\n",
      "https://www.ibm.com/news/ca/en/?lnk=fab-caen\n",
      "https://www.ibm.com/blogs/ibm-canada/?lnk=fab-caen\n",
      "https://www.ibm.com/investor/?lnk=fab-caen\n",
      "https://www.ibm.com/ibm/responsibility/?lnk=fab-caen\n",
      "https://www.ibm.com/ca-en/about\n",
      "https://www.ibm.com/contact/ca/en/?lnk=flg-cont-caen\n",
      "https://www.ibm.com/privacy/ca/en/?lnk=flg-priv-caen\n",
      "https://www.ibm.com/ca-en/legal?lnk=flg-tous-caen\n",
      "https://www.ibm.com/accessibility/ca/en/?lnk=flg-acce-caen\n",
      "#\n"
     ]
    }
   ],
   "source": [
    "for link in soup.find_all('a'):  # in html anchor/link is represented by the tag <a>\n",
    "    print(link.get('href'))"
   ]
  },
  {
   "cell_type": "markdown",
   "metadata": {},
   "source": [
    "Scrape  all images\n"
   ]
  },
  {
   "cell_type": "code",
   "execution_count": 6,
   "metadata": {},
   "outputs": [
    {
     "name": "stdout",
     "output_type": "stream",
     "text": [
      "https://1.dam.s81c.com/public/content/dam/worldwide-content/homepage/ul/g/41/46/IDC_IBV_Study_Canada_Leadspace_Mobile.jpg\n",
      "https://1.dam.s81c.com/public/content/dam/worldwide-content/homepage/ul/g/22/ae/Call%20for%20code%20canada%20card%201.jpg\n",
      "https://1.dam.s81c.com/public/content/dam/worldwide-content/homepage/ul/g/b4/58/20210208-f-maximo-mobile-enterprise-asset-management-25715.jpg\n",
      "https://1.dam.s81c.com/public/content/dam/worldwide-content/homepage/ul/g/f4/82/World_water_day_blog_card.jpg\n",
      "https://1.dam.s81c.com/public/content/dam/worldwide-content/homepage/ul/g/b7/f3/x-force_index_2021_card%20copy.jpg\n",
      "https://1.dam.s81c.com/m/6046db85213e5358/original/Cloud-Pak-for-Security.png\n",
      "https://1.dam.s81c.com/public/content/dam/worldwide-content/homepage/ul/g/2b/ef/2befd9be-4a6a-4eb1-83b166671d57386f.png\n",
      "https://1.dam.s81c.com/public/content/dam/worldwide-content/homepage/ul/g/3a/70/robotic-process-automation-trial-444x266.png\n",
      "https://1.dam.s81c.com/m/30cc47a02cd1a73d/original/Planning-Analytics-22201-700x420.png\n",
      "https://1.dam.s81c.com/public/content/dam/worldwide-content/homepage/ul/g/2f/20/20200118-Cloud-Pak-for-Watson-AIOps-b-25672-444x320.jpg\n",
      "https://1.dam.s81c.com/public/content/dam/worldwide-content/homepage/ul/g/2f/20/20200118-Cloud-Pak-for-Watson-AIOps-b-25672-444x320.jpg\n"
     ]
    }
   ],
   "source": [
    "for link in soup.find_all('img'):# in html image is represented by the tag <img>\n",
    "    print(link.get('src'))"
   ]
  },
  {
   "cell_type": "markdown",
   "metadata": {},
   "source": [
    "## Scrape data from html tables\n"
   ]
  },
  {
   "cell_type": "code",
   "execution_count": 7,
   "metadata": {},
   "outputs": [],
   "source": [
    "#The below url contains a html table with data about colors and color codes."
   ]
  },
  {
   "cell_type": "code",
   "execution_count": 8,
   "metadata": {},
   "outputs": [],
   "source": [
    "url = \"https://cf-courses-data.s3.us.cloud-object-storage.appdomain.cloud/IBM-DA0321EN-SkillsNetwork/labs/datasets/HTMLColorCodes.html\""
   ]
  },
  {
   "cell_type": "markdown",
   "metadata": {},
   "source": [
    "Before proceeding to scrape a web site, you need to examine the contents, and the way data is organized on the website. Open the above url in your browser and check how many rows and columns are there in the color table.\n"
   ]
  },
  {
   "cell_type": "code",
   "execution_count": 9,
   "metadata": {},
   "outputs": [],
   "source": [
    "# get the contents of the webpage in text format and store in a variable called data\n",
    "data  = requests.get(url).text"
   ]
  },
  {
   "cell_type": "code",
   "execution_count": 10,
   "metadata": {},
   "outputs": [],
   "source": [
    "soup = BeautifulSoup(data,\"html5lib\")"
   ]
  },
  {
   "cell_type": "code",
   "execution_count": 12,
   "metadata": {},
   "outputs": [
    {
     "data": {
      "text/plain": [
       "<table border=\"1\" class=\"main-table\">\n",
       "   <tbody><tr>\n",
       "      <td>Number </td>\n",
       "      <td>Color</td>\n",
       "      <td>Color Name</td>\n",
       "      <td>Hex Code<br/>#RRGGBB</td>\n",
       "      <td>Decimal Code<br/>(R,G,B)</td>\n",
       "   </tr>\n",
       "   <tr>\n",
       "      <td>1</td>\n",
       "      <td style=\"background:lightsalmon;\"> </td>\n",
       "      <td>lightsalmon</td>\n",
       "      <td>#FFA07A</td>\n",
       "      <td>rgb(255,160,122)</td>\n",
       "   </tr>\n",
       "   <tr>\n",
       "      <td>2</td>\n",
       "      <td style=\"background:salmon;\"> </td>\n",
       "      <td>salmon</td>\n",
       "      <td>#FA8072</td>\n",
       "      <td>rgb(250,128,114)</td>\n",
       "   </tr>\n",
       "   <tr>\n",
       "      <td>3</td>\n",
       "      <td style=\"background:darksalmon;\"> </td>\n",
       "      <td>darksalmon</td>\n",
       "      <td>#E9967A</td>\n",
       "      <td>rgb(233,150,122)</td>\n",
       "   </tr>\n",
       "   <tr>\n",
       "      <td>4</td>\n",
       "      <td style=\"background:lightcoral;\"> </td>\n",
       "      <td>lightcoral</td>\n",
       "      <td>#F08080</td>\n",
       "      <td>rgb(240,128,128)</td>\n",
       "   </tr>\n",
       "   <tr>\n",
       "      <td>5</td>\n",
       "      <td style=\"background:coral;\"> </td>\n",
       "      <td>coral</td>\n",
       "      <td>#FF7F50</td>\n",
       "      <td>rgb(255,127,80)</td>\n",
       "   </tr>\n",
       "   <tr>\n",
       "      <td>6</td>\n",
       "      <td style=\"background:tomato;\"> </td>\n",
       "      <td>tomato</td>\n",
       "      <td>#FF6347</td>\n",
       "      <td>rgb(255,99,71)</td>\n",
       "   </tr>\n",
       "   <tr>\n",
       "      <td>7</td>\n",
       "      <td style=\"background:orangered;\"> </td>\n",
       "      <td>orangered</td>\n",
       "      <td>#FF4500</td>\n",
       "      <td>rgb(255,69,0)</td>\n",
       "   </tr>\n",
       "   <tr>\n",
       "      <td>8</td>\n",
       "      <td style=\"background:gold;\"> </td>\n",
       "      <td>gold</td>\n",
       "      <td>#FFD700</td>\n",
       "      <td>rgb(255,215,0)</td>\n",
       "   </tr>\n",
       "   <tr>\n",
       "      <td>9</td>\n",
       "      <td style=\"background:orange;\"> </td>\n",
       "      <td>orange</td>\n",
       "      <td>#FFA500</td>\n",
       "      <td>rgb(255,165,0)</td>\n",
       "   </tr>\n",
       "   <tr>\n",
       "      <td>10</td>\n",
       "      <td style=\"background:darkorange;\"> </td>\n",
       "      <td>darkorange</td>\n",
       "      <td>#FF8C00</td>\n",
       "      <td>rgb(255,140,0)</td>\n",
       "   </tr>\n",
       "   <tr>\n",
       "      <td>11</td>\n",
       "      <td style=\"background:lightyellow;\"> </td>\n",
       "      <td>lightyellow</td>\n",
       "      <td>#FFFFE0</td>\n",
       "      <td>rgb(255,255,224)</td>\n",
       "   </tr>\n",
       "   <tr>\n",
       "      <td>12</td>\n",
       "      <td style=\"background:lemonchiffon;\"> </td>\n",
       "      <td>lemonchiffon</td>\n",
       "      <td>#FFFACD</td>\n",
       "      <td>rgb(255,250,205)</td>\n",
       "   </tr>\n",
       "   <tr>\n",
       "      <td>13</td>\n",
       "      <td style=\"background:papayawhip;\"> </td>\n",
       "      <td>papayawhip</td>\n",
       "      <td>#FFEFD5</td>\n",
       "      <td>rgb(255,239,213)</td>\n",
       "   </tr>\n",
       "   <tr>\n",
       "      <td>14</td>\n",
       "      <td style=\"background:moccasin;\"> </td>\n",
       "      <td>moccasin</td>\n",
       "      <td>#FFE4B5</td>\n",
       "      <td>rgb(255,228,181)</td>\n",
       "   </tr>\n",
       "   <tr>\n",
       "      <td>15</td>\n",
       "      <td style=\"background:peachpuff;\"> </td>\n",
       "      <td>peachpuff</td>\n",
       "      <td>#FFDAB9</td>\n",
       "      <td>rgb(255,218,185)</td>\n",
       "   </tr>\n",
       "   <tr>\n",
       "      <td>16</td>\n",
       "      <td style=\"background:palegoldenrod;\"> </td>\n",
       "      <td>palegoldenrod</td>\n",
       "      <td>#EEE8AA</td>\n",
       "      <td>rgb(238,232,170)</td>\n",
       "   </tr>\n",
       "   <tr>\n",
       "      <td>17</td>\n",
       "      <td style=\"background:khaki;\"> </td>\n",
       "      <td>khaki</td>\n",
       "      <td>#F0E68C</td>\n",
       "      <td>rgb(240,230,140)</td>\n",
       "   </tr>\n",
       "   <tr>\n",
       "      <td>18</td>\n",
       "      <td style=\"background:darkkhaki;\"> </td>\n",
       "      <td>darkkhaki</td>\n",
       "      <td>#BDB76B</td>\n",
       "      <td>rgb(189,183,107)</td>\n",
       "   </tr>\n",
       "   <tr>\n",
       "      <td>19</td>\n",
       "      <td style=\"background:yellow;\"> </td>\n",
       "      <td>yellow</td>\n",
       "      <td>#FFFF00</td>\n",
       "      <td>rgb(255,255,0)</td>\n",
       "   </tr>\n",
       "   <tr>\n",
       "      <td>20</td>\n",
       "      <td style=\"background:lawngreen;\"> </td>\n",
       "      <td>lawngreen</td>\n",
       "      <td>#7CFC00</td>\n",
       "      <td>rgb(124,252,0)</td>\n",
       "   </tr>\n",
       "   <tr>\n",
       "      <td>21</td>\n",
       "      <td style=\"background:chartreuse;\"> </td>\n",
       "      <td>chartreuse</td>\n",
       "      <td>#7FFF00</td>\n",
       "      <td>rgb(127,255,0)</td>\n",
       "   </tr>\n",
       "   <tr>\n",
       "      <td>22</td>\n",
       "      <td style=\"background:limegreen;\"> </td>\n",
       "      <td>limegreen</td>\n",
       "      <td>#32CD32</td>\n",
       "      <td>rgb(50,205,50)</td>\n",
       "   </tr>\n",
       "   <tr>\n",
       "      <td>23</td>\n",
       "      <td style=\"background:lime;\"> </td>\n",
       "      <td>lime</td>\n",
       "      <td>#00FF00</td>\n",
       "      <td>rgb(0.255.0)</td>\n",
       "   </tr>\n",
       "   <tr>\n",
       "      <td>24</td>\n",
       "      <td style=\"background:forestgreen;\"> </td>\n",
       "      <td>forestgreen</td>\n",
       "      <td>#228B22</td>\n",
       "      <td>rgb(34,139,34)</td>\n",
       "   </tr>\n",
       "   <tr>\n",
       "      <td>25</td>\n",
       "      <td style=\"background:green;\"> </td>\n",
       "      <td>green</td>\n",
       "      <td>#008000</td>\n",
       "      <td>rgb(0,128,0)</td>\n",
       "   </tr>\n",
       "   <tr>\n",
       "      <td>26</td>\n",
       "      <td style=\"background:powderblue;\"> </td>\n",
       "      <td>powderblue</td>\n",
       "      <td>#B0E0E6</td>\n",
       "      <td>rgb(176,224,230)</td>\n",
       "   </tr>\n",
       "   <tr>\n",
       "      <td>27</td>\n",
       "      <td style=\"background:lightblue;\"> </td>\n",
       "      <td>lightblue</td>\n",
       "      <td>#ADD8E6</td>\n",
       "      <td>rgb(173,216,230)</td>\n",
       "   </tr>\n",
       "   <tr>\n",
       "      <td>28</td>\n",
       "      <td style=\"background:lightskyblue;\"> </td>\n",
       "      <td>lightskyblue</td>\n",
       "      <td>#87CEFA</td>\n",
       "      <td>rgb(135,206,250)</td>\n",
       "   </tr>\n",
       "   <tr>\n",
       "      <td>29</td>\n",
       "      <td style=\"background:skyblue;\"> </td>\n",
       "      <td>skyblue</td>\n",
       "      <td>#87CEEB</td>\n",
       "      <td>rgb(135,206,235)</td>\n",
       "   </tr>\n",
       "   <tr>\n",
       "      <td>30</td>\n",
       "      <td style=\"background:deepskyblue;\"> </td>\n",
       "      <td>deepskyblue</td>\n",
       "      <td>#00BFFF</td>\n",
       "      <td>rgb(0,191,255)</td>\n",
       "   </tr>\n",
       "   <tr>\n",
       "      <td>31</td>\n",
       "      <td style=\"background:lightsteelblue;\"> </td>\n",
       "      <td>lightsteelblue</td>\n",
       "      <td>#B0C4DE</td>\n",
       "      <td>rgb(176,196,222)</td>\n",
       "   </tr>\n",
       "   <tr>\n",
       "      <td>32</td>\n",
       "      <td style=\"background:dodgerblue;\"> </td>\n",
       "      <td>dodgerblue</td>\n",
       "      <td>#1E90FF</td>\n",
       "      <td>rgb(30,144,255)</td>\n",
       "   </tr>\n",
       "</tbody></table>"
      ]
     },
     "execution_count": 12,
     "metadata": {},
     "output_type": "execute_result"
    }
   ],
   "source": [
    "#find a html table in the web page\n",
    "table = soup.find('table') # in html table is represented by the tag <table>\n",
    "table"
   ]
  },
  {
   "cell_type": "code",
   "execution_count": 13,
   "metadata": {},
   "outputs": [
    {
     "name": "stdout",
     "output_type": "stream",
     "text": [
      "Color Name--->Hex Code#RRGGBB\n",
      "lightsalmon--->#FFA07A\n",
      "salmon--->#FA8072\n",
      "darksalmon--->#E9967A\n",
      "lightcoral--->#F08080\n",
      "coral--->#FF7F50\n",
      "tomato--->#FF6347\n",
      "orangered--->#FF4500\n",
      "gold--->#FFD700\n",
      "orange--->#FFA500\n",
      "darkorange--->#FF8C00\n",
      "lightyellow--->#FFFFE0\n",
      "lemonchiffon--->#FFFACD\n",
      "papayawhip--->#FFEFD5\n",
      "moccasin--->#FFE4B5\n",
      "peachpuff--->#FFDAB9\n",
      "palegoldenrod--->#EEE8AA\n",
      "khaki--->#F0E68C\n",
      "darkkhaki--->#BDB76B\n",
      "yellow--->#FFFF00\n",
      "lawngreen--->#7CFC00\n",
      "chartreuse--->#7FFF00\n",
      "limegreen--->#32CD32\n",
      "lime--->#00FF00\n",
      "forestgreen--->#228B22\n",
      "green--->#008000\n",
      "powderblue--->#B0E0E6\n",
      "lightblue--->#ADD8E6\n",
      "lightskyblue--->#87CEFA\n",
      "skyblue--->#87CEEB\n",
      "deepskyblue--->#00BFFF\n",
      "lightsteelblue--->#B0C4DE\n",
      "dodgerblue--->#1E90FF\n"
     ]
    }
   ],
   "source": [
    "#Get all rows from the table\n",
    "for row in table.find_all('tr'): # in html table row is represented by the tag <tr>\n",
    "    # Get all columns in each row.\n",
    "    cols = row.find_all('td') # in html a column is represented by the tag <td>\n",
    "    color_name = cols[2].getText() # store the value in column 3 as color_name\n",
    "    color_code = cols[3].getText() # store the value in column 4 as color_code\n",
    "    print(\"{}--->{}\".format(color_name,color_code))"
   ]
  },
  {
   "cell_type": "markdown",
   "metadata": {},
   "source": [
    "## Authors\n"
   ]
  },
  {
   "cell_type": "markdown",
   "metadata": {},
   "source": [
    "Ramesh Sannareddy\n"
   ]
  },
  {
   "cell_type": "markdown",
   "metadata": {},
   "source": [
    "### Other Contributors\n"
   ]
  },
  {
   "cell_type": "markdown",
   "metadata": {},
   "source": [
    "Rav Ahuja\n"
   ]
  },
  {
   "cell_type": "markdown",
   "metadata": {},
   "source": [
    "## Change Log\n"
   ]
  },
  {
   "cell_type": "markdown",
   "metadata": {},
   "source": [
    "| Date (YYYY-MM-DD) | Version | Changed By        | Change Description                 |\n",
    "| ----------------- | ------- | ----------------- | ---------------------------------- |\n",
    "| 2020-10-17        | 0.1     | Ramesh Sannareddy | Created initial version of the lab |\n"
   ]
  },
  {
   "cell_type": "markdown",
   "metadata": {},
   "source": [
    " Copyright © 2020 IBM Corporation. This notebook and its source code are released under the terms of the [MIT License](https://cognitiveclass.ai/mit-license?cm_mmc=Email_Newsletter-_-Developer_Ed%2BTech-_-WW_WW-_-SkillsNetwork-Courses-IBM-DA0321EN-SkillsNetwork-21426264&cm_mmca1=000026UJ&cm_mmca2=10006555&cm_mmca3=M12345678&cvosrc=email.Newsletter.M12345678&cvo_campaign=000026UJ&cm_mmc=Email_Newsletter-_-Developer_Ed%2BTech-_-WW_WW-_-SkillsNetwork-Courses-IBM-DA0321EN-SkillsNetwork-21426264&cm_mmca1=000026UJ&cm_mmca2=10006555&cm_mmca3=M12345678&cvosrc=email.Newsletter.M12345678&cvo_campaign=000026UJ&cm_mmc=Email_Newsletter-_-Developer_Ed%2BTech-_-WW_WW-_-SkillsNetwork-Courses-IBM-DA0321EN-SkillsNetwork-21426264&cm_mmca1=000026UJ&cm_mmca2=10006555&cm_mmca3=M12345678&cvosrc=email.Newsletter.M12345678&cvo_campaign=000026UJ&cm_mmc=Email_Newsletter-_-Developer_Ed%2BTech-_-WW_WW-_-SkillsNetwork-Courses-IBM-DA0321EN-SkillsNetwork-21426264&cm_mmca1=000026UJ&cm_mmca2=10006555&cm_mmca3=M12345678&cvosrc=email.Newsletter.M12345678&cvo_campaign=000026UJ).\n"
   ]
  }
 ],
 "metadata": {
  "kernelspec": {
   "display_name": "Python 3",
   "language": "python",
   "name": "python3"
  },
  "language_info": {
   "codemirror_mode": {
    "name": "ipython",
    "version": 3
   },
   "file_extension": ".py",
   "mimetype": "text/x-python",
   "name": "python",
   "nbconvert_exporter": "python",
   "pygments_lexer": "ipython3",
   "version": "3.8.5"
  }
 },
 "nbformat": 4,
 "nbformat_minor": 4
}
