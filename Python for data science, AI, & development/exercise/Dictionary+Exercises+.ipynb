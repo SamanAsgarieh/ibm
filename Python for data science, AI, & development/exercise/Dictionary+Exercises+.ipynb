{
 "cells": [
  {
   "cell_type": "code",
   "execution_count": 11,
   "metadata": {},
   "outputs": [
    {
     "data": {
      "text/plain": [
       "{'L': 'Leul Abebe',\n",
       " 'S': 'Santhiya Prabhakar',\n",
       " 'M': 'Mehrnaz Hooshmand',\n",
       " 'O': 'Olaolusubomi Akinsunmade',\n",
       " 'D': 'Divya Mani Devasani',\n",
       " 'E': 'Edward Castro',\n",
       " 'I': 'Imara Dhalla',\n",
       " 'G': 'Gilmara Sales',\n",
       " 'C': 'Chloe Erazua',\n",
       " 'R': 'ROMITA RAJ',\n",
       " 'Z': 'Zhen Rui Lin',\n",
       " 'W': 'Winnie Madamombe',\n",
       " 'A': 'ALKA SAVANI',\n",
       " 'T': 'Temitope Oshin',\n",
       " 'U': 'Ulan Sango',\n",
       " 'J': 'Jainam Suthar'}"
      ]
     },
     "execution_count": 11,
     "metadata": {},
     "output_type": "execute_result"
    }
   ],
   "source": [
    "#Q1 Create a dictionary for all participants in the JDA program.\n",
    "#Keys should be the first letter in their names, Values should be their names.\n",
    "#[Hint] dic={\"l\":(Leul),\"J\":(Jerry,Jainam)........}\n",
    "JDA_participants_dict = {}\n",
    "JDA_participants = [\n",
    "'Leul Abebe',\n",
    "'Suha Ahilan',\n",
    "'Muhammad Ahtasham',\n",
    "'Olaolusubomi Akinsunmade',\n",
    "'Saman Asgarieh',\n",
    "'Sunint Bindra',\n",
    "'Dami Brown',\n",
    "'Edward Castro',\n",
    "'Divya Mani Devasani',\n",
    "'Imara Dhalla',\n",
    "'Gaurav Dhuria',\n",
    "'Sidney Dizon',\n",
    "'Chloe Erazua',\n",
    "'Rasha Etman',\n",
    "'Mehrnaz Hooshmand',\n",
    "'Sowjanya Kukkala',\n",
    "'Zhen Rui Lin',\n",
    "'Winnie Madamombe',\n",
    "'SALONI MAHESHWARI',\n",
    "'Akash Makkar',\n",
    "'Adam Murji',\n",
    "'Temitope Oshin',\n",
    "'Ajinkya Patil',\n",
    "'Riley Pearson',\n",
    "'Santhiya Prabhakar',\n",
    "'ROMITA RAJ',\n",
    "'Gilmara Sales',\n",
    "'Ulan Sango',\n",
    "'ALKA SAVANI',\n",
    "'Jainam Suthar']\n",
    "\n",
    "for data in JDA_participants:\n",
    "    JDA_participants_dict[data[0]] = data\n",
    "    \n",
    "    \n",
    "#  some names are not included since the key needs to be unique\n",
    "JDA_participants_dict"
   ]
  },
  {
   "cell_type": "code",
   "execution_count": 12,
   "metadata": {},
   "outputs": [
    {
     "name": "stdout",
     "output_type": "stream",
     "text": [
      "dict_keys(['L', 'S', 'M', 'O', 'D', 'E', 'I', 'G', 'C', 'R', 'Z', 'W', 'A', 'T', 'U', 'J'])\n"
     ]
    }
   ],
   "source": [
    "#Q2 What are the keys of your dictionary\n",
    "print(JDA_participants_dict.keys())"
   ]
  },
  {
   "cell_type": "code",
   "execution_count": 13,
   "metadata": {},
   "outputs": [
    {
     "name": "stdout",
     "output_type": "stream",
     "text": [
      "dict_values(['Leul Abebe', 'Santhiya Prabhakar', 'Mehrnaz Hooshmand', 'Olaolusubomi Akinsunmade', 'Divya Mani Devasani', 'Edward Castro', 'Imara Dhalla', 'Gilmara Sales', 'Chloe Erazua', 'ROMITA RAJ', 'Zhen Rui Lin', 'Winnie Madamombe', 'ALKA SAVANI', 'Temitope Oshin', 'Ulan Sango', 'Jainam Suthar'])\n"
     ]
    }
   ],
   "source": [
    "#Q3 What are the values of your dictionary\n",
    "print(JDA_participants_dict.values())"
   ]
  },
  {
   "cell_type": "code",
   "execution_count": 25,
   "metadata": {},
   "outputs": [
    {
     "name": "stdout",
     "output_type": "stream",
     "text": [
      "Mehrnaz Hooshmand\n",
      "Imara Dhalla\n",
      "Chloe Erazua\n",
      "ALKA SAVANI\n",
      "Jainam Suthar\n"
     ]
    }
   ],
   "source": [
    "#Q4 Find participant's names that start with J,I,M,C,A\n",
    "initial_list = ['J','I','M','C','A']\n",
    "for key,value in JDA_participants_dict.items():\n",
    "    if key in initial_list:\n",
    "        print(value)"
   ]
  },
  {
   "cell_type": "code",
   "execution_count": 26,
   "metadata": {},
   "outputs": [
    {
     "data": {
      "text/plain": [
       "{'L': 'Leul Abebe',\n",
       " 'S': 'Santhiya Prabhakar',\n",
       " 'M': 'Mehrnaz Hooshmand',\n",
       " 'O': 'Olaolusubomi Akinsunmade',\n",
       " 'D': 'Divya Mani Devasani',\n",
       " 'E': 'Edward Castro',\n",
       " 'I': 'Imara Dhalla',\n",
       " 'G': 'Gilmara Sales',\n",
       " 'C': 'Chloe Erazua',\n",
       " 'R': 'ROMITA RAJ',\n",
       " 'Z': 'Zhen Rui Lin',\n",
       " 'W': 'Winnie Madamombe',\n",
       " 'A': 'ALKA SAVANI',\n",
       " 'T': 'Temitope Oshin',\n",
       " 'U': 'Ulan Sango',\n",
       " 'J': 'Jainam Suthar',\n",
       " 'K,PD': 'Kristina'}"
      ]
     },
     "execution_count": 26,
     "metadata": {},
     "output_type": "execute_result"
    }
   ],
   "source": [
    "#Q5 Add the following to your dictionary \n",
    "# Key<(K,PD)>, Value<(Kristina)>\n",
    "JDA_participants_dict['K,PD']='Kristina'\n",
    "JDA_participants_dict"
   ]
  },
  {
   "cell_type": "code",
   "execution_count": 27,
   "metadata": {},
   "outputs": [
    {
     "data": {
      "text/plain": [
       "17"
      ]
     },
     "execution_count": 27,
     "metadata": {},
     "output_type": "execute_result"
    }
   ],
   "source": [
    "#Q6 Find the length of your dictionary  \n",
    "len(JDA_participants_dict)"
   ]
  },
  {
   "cell_type": "code",
   "execution_count": 29,
   "metadata": {},
   "outputs": [
    {
     "data": {
      "text/plain": [
       "{'L': 'Leul Abebe',\n",
       " 'S': 'Santhiya Prabhakar',\n",
       " 'M': 'Mehrnaz Hooshmand',\n",
       " 'O': 'Olaolusubomi Akinsunmade',\n",
       " 'D': 'Divya Mani Devasani',\n",
       " 'E': 'Edward Castro',\n",
       " 'I': 'Imara Dhalla',\n",
       " 'G': 'Gilmara Sales',\n",
       " 'C': 'Chloe Erazua',\n",
       " 'R': 'ROMITA RAJ',\n",
       " 'Z': 'Zhen Rui Lin',\n",
       " 'W': 'Winnie Madamombe',\n",
       " 'A': 'ALKA SAVANI',\n",
       " 'T': 'Temitope Oshin',\n",
       " 'U': 'Ulan Sango',\n",
       " 'J': 'Jainam Suthar',\n",
       " 'K,PD': 'Kristina',\n",
       " 'S,Instructor': 'Sarah'}"
      ]
     },
     "execution_count": 29,
     "metadata": {},
     "output_type": "execute_result"
    }
   ],
   "source": [
    "#Q7 Add the following to your dictionary \n",
    "# Key<(S,Instructor)>, Value<(Sarah)>\n",
    "JDA_participants_dict['S,Instructor'] = 'Sarah'\n",
    "JDA_participants_dict"
   ]
  },
  {
   "cell_type": "code",
   "execution_count": 30,
   "metadata": {},
   "outputs": [
    {
     "data": {
      "text/plain": [
       "18"
      ]
     },
     "execution_count": 30,
     "metadata": {},
     "output_type": "execute_result"
    }
   ],
   "source": [
    "#Q8 Find the length of your dictionary  \n",
    "len(JDA_participants_dict)"
   ]
  },
  {
   "cell_type": "code",
   "execution_count": 31,
   "metadata": {},
   "outputs": [
    {
     "data": {
      "text/plain": [
       "{'L': 'Leul Abebe',\n",
       " 'S': 'Santhiya Prabhakar',\n",
       " 'M': 'Mehrnaz Hooshmand',\n",
       " 'O': 'Olaolusubomi Akinsunmade',\n",
       " 'D': 'Divya Mani Devasani',\n",
       " 'E': 'Edward Castro',\n",
       " 'I': 'Imara Dhalla',\n",
       " 'G': 'Gilmara Sales',\n",
       " 'C': 'Chloe Erazua',\n",
       " 'R': 'ROMITA RAJ',\n",
       " 'Z': 'Zhen Rui Lin',\n",
       " 'W': 'Winnie Madamombe',\n",
       " 'A': 'ALKA SAVANI',\n",
       " 'T': 'Temitope Oshin',\n",
       " 'U': 'Ulan Sango',\n",
       " 'K,PD': 'Kristina'}"
      ]
     },
     "execution_count": 31,
     "metadata": {},
     "output_type": "execute_result"
    }
   ],
   "source": [
    "#Q7 Delete the following keys from your dictionary \n",
    "#Key<(S,Instructor)>\n",
    "#Key<J>\n",
    "del JDA_participants_dict['S,Instructor']\n",
    "del JDA_participants_dict['J']\n",
    "JDA_participants_dict"
   ]
  },
  {
   "cell_type": "code",
   "execution_count": 32,
   "metadata": {},
   "outputs": [
    {
     "data": {
      "text/plain": [
       "16"
      ]
     },
     "execution_count": 32,
     "metadata": {},
     "output_type": "execute_result"
    }
   ],
   "source": [
    "#Q9 Find the length of your dictionary  \n",
    "len(JDA_participants_dict)"
   ]
  },
  {
   "cell_type": "code",
   "execution_count": null,
   "metadata": {},
   "outputs": [],
   "source": [
    "#Q10 Create a new dictionary called synonyms_dic\n",
    "synonyms_dic={}"
   ]
  },
  {
   "cell_type": "code",
   "execution_count": 33,
   "metadata": {},
   "outputs": [
    {
     "data": {
      "text/plain": [
       "{'Bad': 'Poor',\n",
       " 'Good': 'Fine',\n",
       " 'Awesome': 'Astonishing',\n",
       " 'Cold': 'Chilly',\n",
       " 'Easy': 'Simple',\n",
       " 'Hard': 'Tough',\n",
       " 'Big': 'Huge',\n",
       " 'Small': 'Tiny'}"
      ]
     },
     "execution_count": 33,
     "metadata": {},
     "output_type": "execute_result"
    }
   ],
   "source": [
    "#Q11 Add the synonyms of the following words to your dictionary \n",
    "#Bad, Good, Awesome, Cold, Easy, Hard, Big, Small\n",
    "synonyms_dict={'Bad':'Poor', 'Good':'Fine', 'Awesome':'Astonishing', 'Cold':'Chilly', 'Easy':'Simple', 'Hard':'Tough', 'Big':'Huge', 'Small':'Tiny'}\n",
    "synonyms_dict"
   ]
  },
  {
   "cell_type": "code",
   "execution_count": 34,
   "metadata": {},
   "outputs": [
    {
     "name": "stdout",
     "output_type": "stream",
     "text": [
      "Synonym of the word Awesome is Astonishing\n",
      "Synonym of the word Easy is Simple\n",
      "Synonym of the word Small is Tiny\n"
     ]
    }
   ],
   "source": [
    "#Q12 Use your dictionary to find the synonym of the following words \n",
    "# Awesome, Easy, Small, Old\n",
    "syn_list = ['Awesome', 'Easy', 'Small', 'Old']\n",
    "for key,value in synonyms_dict.items():\n",
    "    if key in syn_list:\n",
    "        print(f'Synonym of the word {key} is {value}')"
   ]
  },
  {
   "cell_type": "code",
   "execution_count": 36,
   "metadata": {},
   "outputs": [],
   "source": [
    "#Q13 Delete everything from synonyms_dic\n",
    "synonyms_dic={}"
   ]
  },
  {
   "cell_type": "code",
   "execution_count": 37,
   "metadata": {},
   "outputs": [
    {
     "data": {
      "text/plain": [
       "dict_values([])"
      ]
     },
     "execution_count": 37,
     "metadata": {},
     "output_type": "execute_result"
    }
   ],
   "source": [
    "#Q14 Print all values in synonyms_dic\n",
    "synonyms_dic.values()"
   ]
  },
  {
   "cell_type": "code",
   "execution_count": 38,
   "metadata": {},
   "outputs": [
    {
     "data": {
      "text/plain": [
       "{'True': 1, 'False': 0}"
      ]
     },
     "execution_count": 38,
     "metadata": {},
     "output_type": "execute_result"
    }
   ],
   "source": [
    "#Q15 Convert the below two lists into dictionary\n",
    "Keys=[\"True\",\"False\"]\n",
    "Values=[1,0]\n",
    "boolean_dict = {'True':1,'False':0}\n",
    "boolean_dict"
   ]
  },
  {
   "cell_type": "code",
   "execution_count": 39,
   "metadata": {},
   "outputs": [
    {
     "data": {
      "text/plain": [
       "4480"
      ]
     },
     "execution_count": 39,
     "metadata": {},
     "output_type": "execute_result"
    }
   ],
   "source": [
    "#Q16 Sum all the values in the following dictionary\n",
    "income={'Jan':1000,'Feb':1500,'Mar':980,'April':1000}\n",
    "sum(income.values())"
   ]
  },
  {
   "cell_type": "code",
   "execution_count": 40,
   "metadata": {},
   "outputs": [],
   "source": [
    "#Q17 Create the following dictionary encryption={10:\"hungry\", 101:\"am\", 110:\"I\", 1011:\",\" ,1101:\"eat\", 1001:\"want\", 111:\"to\"}\n",
    "# What should the the decryption of the following code \"110 101 10 1011 110 1001 111 1101\"\n",
    "encryption={10:\"hungry\", 101:\"am\", 110:\"I\", 1011:\",\" ,1101:\"eat\", 1001:\"want\", 111:\"to\"}"
   ]
  },
  {
   "cell_type": "code",
   "execution_count": 42,
   "metadata": {},
   "outputs": [
    {
     "data": {
      "text/plain": [
       "' I am hungry , I want to eat'"
      ]
     },
     "execution_count": 42,
     "metadata": {},
     "output_type": "execute_result"
    }
   ],
   "source": [
    "decrypt_list = [110, 101, 10, 1011, 110, 1001, 111, 1101]\n",
    "res = ''\n",
    "for val in decrypt_list:\n",
    "    res = res+' '+encryption[val]\n",
    "res\n",
    "    "
   ]
  },
  {
   "cell_type": "code",
   "execution_count": null,
   "metadata": {},
   "outputs": [],
   "source": []
  }
 ],
 "metadata": {
  "kernelspec": {
   "display_name": "Python 3",
   "language": "python",
   "name": "python3"
  },
  "language_info": {
   "codemirror_mode": {
    "name": "ipython",
    "version": 3
   },
   "file_extension": ".py",
   "mimetype": "text/x-python",
   "name": "python",
   "nbconvert_exporter": "python",
   "pygments_lexer": "ipython3",
   "version": "3.8.5"
  }
 },
 "nbformat": 4,
 "nbformat_minor": 4
}
