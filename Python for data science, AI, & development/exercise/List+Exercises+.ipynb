{
 "cells": [
  {
   "cell_type": "code",
   "execution_count": 1,
   "metadata": {},
   "outputs": [
    {
     "data": {
      "text/plain": [
       "('Leul Abebe',\n",
       " 'Suha Ahilan',\n",
       " 'Muhammad Ahtasham',\n",
       " 'Olaolusubomi Akinsunmade',\n",
       " 'Saman Asgarieh',\n",
       " 'Sunint Bindra',\n",
       " 'Dami Brown',\n",
       " 'Edward Castro',\n",
       " 'Divya Mani Devasani',\n",
       " 'Imara Dhalla',\n",
       " 'Gaurav Dhuria',\n",
       " 'Sidney Dizon',\n",
       " 'Chloe Erazua',\n",
       " 'Rasha Etman',\n",
       " 'Mehrnaz Hooshmand',\n",
       " 'Sowjanya Kukkala',\n",
       " 'Zhen Rui Lin',\n",
       " 'Winnie Madamombe',\n",
       " 'SALONI MAHESHWARI',\n",
       " 'Akash Makkar',\n",
       " 'Adam Murji',\n",
       " 'Temitope Oshin',\n",
       " 'Ajinkya Patil',\n",
       " 'Riley Pearson',\n",
       " 'Santhiya Prabhakar',\n",
       " 'ROMITA RAJ',\n",
       " 'Gilmara Sales',\n",
       " 'Ulan Sango',\n",
       " 'ALKA SAVANI',\n",
       " 'Jainam Suthar')"
      ]
     },
     "execution_count": 1,
     "metadata": {},
     "output_type": "execute_result"
    }
   ],
   "source": [
    "#Q1 Create a tuple with all participant names in the JDA program\n",
    "JDA_participants = ('Leul Abebe',\n",
    "'Suha Ahilan',\n",
    "'Muhammad Ahtasham',\n",
    "'Olaolusubomi Akinsunmade',\n",
    "'Saman Asgarieh',\n",
    "'Sunint Bindra',\n",
    "'Dami Brown',\n",
    "'Edward Castro',\n",
    "'Divya Mani Devasani',\n",
    "'Imara Dhalla',\n",
    "'Gaurav Dhuria',\n",
    "'Sidney Dizon',\n",
    "'Chloe Erazua',\n",
    "'Rasha Etman',\n",
    "'Mehrnaz Hooshmand',\n",
    "'Sowjanya Kukkala',\n",
    "'Zhen Rui Lin',\n",
    "'Winnie Madamombe',\n",
    "'SALONI MAHESHWARI',\n",
    "'Akash Makkar',\n",
    "'Adam Murji',\n",
    "'Temitope Oshin',\n",
    "'Ajinkya Patil',\n",
    "'Riley Pearson',\n",
    "'Santhiya Prabhakar',\n",
    "'ROMITA RAJ',\n",
    "'Gilmara Sales',\n",
    "'Ulan Sango',\n",
    "'ALKA SAVANI',\n",
    "'Jainam Suthar')\n",
    "                    \n",
    "JDA_participants                 "
   ]
  },
  {
   "cell_type": "code",
   "execution_count": 2,
   "metadata": {},
   "outputs": [
    {
     "data": {
      "text/plain": [
       "['Leul Abebe',\n",
       " 'Suha Ahilan',\n",
       " 'Muhammad Ahtasham',\n",
       " 'Olaolusubomi Akinsunmade',\n",
       " 'Saman Asgarieh',\n",
       " 'Sunint Bindra',\n",
       " 'Dami Brown',\n",
       " 'Edward Castro',\n",
       " 'Divya Mani Devasani',\n",
       " 'Imara Dhalla',\n",
       " 'Gaurav Dhuria',\n",
       " 'Sidney Dizon',\n",
       " 'Chloe Erazua',\n",
       " 'Rasha Etman',\n",
       " 'Mehrnaz Hooshmand',\n",
       " 'Sowjanya Kukkala',\n",
       " 'Zhen Rui Lin',\n",
       " 'Winnie Madamombe',\n",
       " 'SALONI MAHESHWARI',\n",
       " 'Akash Makkar',\n",
       " 'Adam Murji',\n",
       " 'Temitope Oshin',\n",
       " 'Ajinkya Patil',\n",
       " 'Riley Pearson',\n",
       " 'Santhiya Prabhakar',\n",
       " 'ROMITA RAJ',\n",
       " 'Gilmara Sales',\n",
       " 'Ulan Sango',\n",
       " 'ALKA SAVANI',\n",
       " 'Jainam Suthar']"
      ]
     },
     "execution_count": 2,
     "metadata": {},
     "output_type": "execute_result"
    }
   ],
   "source": [
    "#Q2 Convert the tuple into a list called pps_L\n",
    "JDA_participants = list(JDA_participants)\n",
    "JDA_participants"
   ]
  },
  {
   "cell_type": "code",
   "execution_count": 3,
   "metadata": {},
   "outputs": [
    {
     "data": {
      "text/plain": [
       "30"
      ]
     },
     "execution_count": 3,
     "metadata": {},
     "output_type": "execute_result"
    }
   ],
   "source": [
    "#Q3 What is the length of your list \n",
    "len(JDA_participants)"
   ]
  },
  {
   "cell_type": "code",
   "execution_count": 9,
   "metadata": {},
   "outputs": [
    {
     "name": "stdout",
     "output_type": "stream",
     "text": [
      "Olaolusubomi Akinsunmade\n",
      "Sunint Bindra\n",
      "Mehrnaz Hooshmand\n"
     ]
    },
    {
     "ename": "IndexError",
     "evalue": "list index out of range",
     "output_type": "error",
     "traceback": [
      "\u001b[1;31m---------------------------------------------------------------------------\u001b[0m",
      "\u001b[1;31mIndexError\u001b[0m                                Traceback (most recent call last)",
      "\u001b[1;32m<ipython-input-9-b064c8c1928c>\u001b[0m in \u001b[0;36m<module>\u001b[1;34m\u001b[0m\n\u001b[0;32m      3\u001b[0m \u001b[0mprint\u001b[0m\u001b[1;33m(\u001b[0m\u001b[0mJDA_participants\u001b[0m\u001b[1;33m[\u001b[0m\u001b[1;36m5\u001b[0m\u001b[1;33m]\u001b[0m\u001b[1;33m)\u001b[0m\u001b[1;33m\u001b[0m\u001b[1;33m\u001b[0m\u001b[0m\n\u001b[0;32m      4\u001b[0m \u001b[0mprint\u001b[0m\u001b[1;33m(\u001b[0m\u001b[0mJDA_participants\u001b[0m\u001b[1;33m[\u001b[0m\u001b[1;36m14\u001b[0m\u001b[1;33m]\u001b[0m\u001b[1;33m)\u001b[0m\u001b[1;33m\u001b[0m\u001b[1;33m\u001b[0m\u001b[0m\n\u001b[1;32m----> 5\u001b[1;33m \u001b[0mprint\u001b[0m\u001b[1;33m(\u001b[0m\u001b[0mJDA_participants\u001b[0m\u001b[1;33m[\u001b[0m\u001b[1;36m30\u001b[0m\u001b[1;33m]\u001b[0m\u001b[1;33m)\u001b[0m\u001b[1;33m\u001b[0m\u001b[1;33m\u001b[0m\u001b[0m\n\u001b[0m\u001b[0;32m      6\u001b[0m \u001b[0mprint\u001b[0m\u001b[1;33m(\u001b[0m\u001b[0mJDA_participants\u001b[0m\u001b[1;33m[\u001b[0m\u001b[1;36m38\u001b[0m\u001b[1;33m]\u001b[0m\u001b[1;33m)\u001b[0m\u001b[1;33m\u001b[0m\u001b[1;33m\u001b[0m\u001b[0m\n",
      "\u001b[1;31mIndexError\u001b[0m: list index out of range"
     ]
    }
   ],
   "source": [
    "#Q4 Find the values stored in indexes [3],[5],[14],[30],[38]\n",
    "print(JDA_participants[3])\n",
    "print(JDA_participants[5])\n",
    "print(JDA_participants[14])\n",
    "print(JDA_participants[30])\n",
    "print(JDA_participants[38])"
   ]
  },
  {
   "cell_type": "code",
   "execution_count": 10,
   "metadata": {},
   "outputs": [
    {
     "data": {
      "text/plain": [
       "False"
      ]
     },
     "execution_count": 10,
     "metadata": {},
     "output_type": "execute_result"
    }
   ],
   "source": [
    "#Q5 Check if \"Sarah\" is in the list\n",
    "'Sarah' in JDA_participants"
   ]
  },
  {
   "cell_type": "code",
   "execution_count": 11,
   "metadata": {},
   "outputs": [
    {
     "data": {
      "text/plain": [
       "['Leul Abebe',\n",
       " 'Suha Ahilan',\n",
       " 'Muhammad Ahtasham',\n",
       " 'Olaolusubomi Akinsunmade',\n",
       " 'Saman Asgarieh',\n",
       " 'Sunint Bindra',\n",
       " 'Dami Brown',\n",
       " 'Edward Castro',\n",
       " 'Divya Mani Devasani',\n",
       " 'Imara Dhalla',\n",
       " 'Gaurav Dhuria',\n",
       " 'Sidney Dizon',\n",
       " 'Chloe Erazua',\n",
       " 'Rasha Etman',\n",
       " 'Mehrnaz Hooshmand',\n",
       " 'Sowjanya Kukkala',\n",
       " 'Zhen Rui Lin',\n",
       " 'Winnie Madamombe',\n",
       " 'SALONI MAHESHWARI',\n",
       " 'Akash Makkar',\n",
       " 'Adam Murji',\n",
       " 'Temitope Oshin',\n",
       " 'Ajinkya Patil',\n",
       " 'Riley Pearson',\n",
       " 'Santhiya Prabhakar',\n",
       " 'ROMITA RAJ',\n",
       " 'Gilmara Sales',\n",
       " 'Ulan Sango',\n",
       " 'ALKA SAVANI',\n",
       " 'Jainam Suthar',\n",
       " 'Sarah']"
      ]
     },
     "execution_count": 11,
     "metadata": {},
     "output_type": "execute_result"
    }
   ],
   "source": [
    "#Q6 Add \"Sarah\" to your list\n",
    "JDA_participants.append('Sarah')\n",
    "JDA_participants"
   ]
  },
  {
   "cell_type": "code",
   "execution_count": 12,
   "metadata": {},
   "outputs": [
    {
     "data": {
      "text/plain": [
       "False"
      ]
     },
     "execution_count": 12,
     "metadata": {},
     "output_type": "execute_result"
    }
   ],
   "source": [
    "#Q7 Check if \"Bashir\" is in the list\n",
    "'Bashir' in JDA_participants"
   ]
  },
  {
   "cell_type": "code",
   "execution_count": 13,
   "metadata": {},
   "outputs": [],
   "source": [
    "#Q9 Add \"Bashir\" to your list\n",
    "JDA_participants.append('Bashir')"
   ]
  },
  {
   "cell_type": "code",
   "execution_count": 18,
   "metadata": {},
   "outputs": [
    {
     "data": {
      "text/plain": [
       "30"
      ]
     },
     "execution_count": 18,
     "metadata": {},
     "output_type": "execute_result"
    }
   ],
   "source": [
    "#Q10 Find the index of the element \"Sarah\" in the list\n",
    "JDA_participants.index('Sarah')"
   ]
  },
  {
   "cell_type": "code",
   "execution_count": 20,
   "metadata": {},
   "outputs": [
    {
     "data": {
      "text/plain": [
       "['Leul Abebe',\n",
       " 'Suha Ahilan',\n",
       " 'Muhammad Ahtasham',\n",
       " 'Olaolusubomi Akinsunmade',\n",
       " 'Saman Asgarieh',\n",
       " 'Sunint Bindra',\n",
       " 'Dami Brown',\n",
       " 'Edward Castro',\n",
       " 'Divya Mani Devasani',\n",
       " 'Imara Dhalla',\n",
       " 'Gaurav Dhuria',\n",
       " 'Sidney Dizon',\n",
       " 'Chloe Erazua',\n",
       " 'Rasha Etman',\n",
       " 'Mehrnaz Hooshmand',\n",
       " 'Sowjanya Kukkala',\n",
       " 'Zhen Rui Lin',\n",
       " 'Winnie Madamombe',\n",
       " 'SALONI MAHESHWARI',\n",
       " 'Akash Makkar',\n",
       " 'Adam Murji',\n",
       " 'Temitope Oshin',\n",
       " 'Ajinkya Patil',\n",
       " 'Riley Pearson',\n",
       " 'Santhiya Prabhakar',\n",
       " 'ROMITA RAJ',\n",
       " 'Gilmara Sales',\n",
       " 'Ulan Sango',\n",
       " 'ALKA SAVANI',\n",
       " 'Jainam Suthar',\n",
       " 'Instructor',\n",
       " 'Bashir']"
      ]
     },
     "execution_count": 20,
     "metadata": {},
     "output_type": "execute_result"
    }
   ],
   "source": [
    "#Q11 Change the value of the index in Q10 from \"Sarah\" to \"Instructor\"\n",
    "JDA_participants[30]='Instructor'\n",
    "JDA_participants"
   ]
  },
  {
   "cell_type": "code",
   "execution_count": 21,
   "metadata": {},
   "outputs": [
    {
     "data": {
      "text/plain": [
       "31"
      ]
     },
     "execution_count": 21,
     "metadata": {},
     "output_type": "execute_result"
    }
   ],
   "source": [
    "#Q12 Find the index of the element \"Bashir\" in the list\n",
    "JDA_participants.index('Bashir')"
   ]
  },
  {
   "cell_type": "code",
   "execution_count": 22,
   "metadata": {},
   "outputs": [
    {
     "data": {
      "text/plain": [
       "['Leul Abebe',\n",
       " 'Suha Ahilan',\n",
       " 'Muhammad Ahtasham',\n",
       " 'Olaolusubomi Akinsunmade',\n",
       " 'Saman Asgarieh',\n",
       " 'Sunint Bindra',\n",
       " 'Dami Brown',\n",
       " 'Edward Castro',\n",
       " 'Divya Mani Devasani',\n",
       " 'Imara Dhalla',\n",
       " 'Gaurav Dhuria',\n",
       " 'Sidney Dizon',\n",
       " 'Chloe Erazua',\n",
       " 'Rasha Etman',\n",
       " 'Mehrnaz Hooshmand',\n",
       " 'Sowjanya Kukkala',\n",
       " 'Zhen Rui Lin',\n",
       " 'Winnie Madamombe',\n",
       " 'SALONI MAHESHWARI',\n",
       " 'Akash Makkar',\n",
       " 'Adam Murji',\n",
       " 'Temitope Oshin',\n",
       " 'Ajinkya Patil',\n",
       " 'Riley Pearson',\n",
       " 'Santhiya Prabhakar',\n",
       " 'ROMITA RAJ',\n",
       " 'Gilmara Sales',\n",
       " 'Ulan Sango',\n",
       " 'ALKA SAVANI',\n",
       " 'Jainam Suthar',\n",
       " 'Instructor',\n",
       " 'Peer-Mentor']"
      ]
     },
     "execution_count": 22,
     "metadata": {},
     "output_type": "execute_result"
    }
   ],
   "source": [
    "#Q13 Change the value of the index in Q12 from \"Bashir\" to \"Peer-Mentor\"\n",
    "JDA_participants[31]='Peer-Mentor'\n",
    "JDA_participants"
   ]
  },
  {
   "cell_type": "code",
   "execution_count": null,
   "metadata": {},
   "outputs": [],
   "source": []
  }
 ],
 "metadata": {
  "kernelspec": {
   "display_name": "Python 3",
   "language": "python",
   "name": "python3"
  },
  "language_info": {
   "codemirror_mode": {
    "name": "ipython",
    "version": 3
   },
   "file_extension": ".py",
   "mimetype": "text/x-python",
   "name": "python",
   "nbconvert_exporter": "python",
   "pygments_lexer": "ipython3",
   "version": "3.8.5"
  }
 },
 "nbformat": 4,
 "nbformat_minor": 4
}
