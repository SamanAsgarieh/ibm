{
 "cells": [
  {
   "cell_type": "code",
   "execution_count": 7,
   "metadata": {},
   "outputs": [
    {
     "name": "stdout",
     "output_type": "stream",
     "text": [
      "5\n",
      "Only numerical values are accepted\n"
     ]
    }
   ],
   "source": [
    "#Q1 Write Python function that takes two inputs and return their sum value\n",
    "def sum_values(v1,v2):\n",
    "    try:\n",
    "        return v1+v2\n",
    "    except:\n",
    "        print('Only numerical values are accepted')\n",
    "print(sum_values(2,3))\n",
    "#  To check if the function catches the error for incorrect input\n",
    "sum_values('a',2)"
   ]
  },
  {
   "cell_type": "code",
   "execution_count": 8,
   "metadata": {},
   "outputs": [
    {
     "name": "stdout",
     "output_type": "stream",
     "text": [
      "356.0\n",
      "Only numerical values are accepted\n"
     ]
    }
   ],
   "source": [
    "#Q2 Write Python function the takes a celsius temprature and converts it into fahrenheit \n",
    "def celsius_to_farenheit(c):\n",
    "    try:\n",
    "        return (1.8 * c) + 32\n",
    "    except:\n",
    "        print('Only numerical values are accepted')\n",
    "print(celsius_to_farenheit(180))\n",
    "#  To check if the function catches the error for incorrect input\n",
    "celsius_to_farenheit('a')"
   ]
  },
  {
   "cell_type": "code",
   "execution_count": 6,
   "metadata": {},
   "outputs": [
    {
     "name": "stdout",
     "output_type": "stream",
     "text": [
      "4\n",
      "Only numerical values are accepted\n"
     ]
    }
   ],
   "source": [
    "#Q3 Write a Python function to find the Max of three numbers\n",
    "def find_max(v1,v2,v3):\n",
    "    try:\n",
    "        l1 = [v1,v2,v3]\n",
    "        return max(l1)\n",
    "    except:\n",
    "        print('Only numerical values are accepted')\n",
    "print(find_max(2,3,4))\n",
    "#  To check if the function catches the error for incorrect input\n",
    "find_max('a',2,3)"
   ]
  },
  {
   "cell_type": "code",
   "execution_count": 14,
   "metadata": {},
   "outputs": [
    {
     "name": "stdout",
     "output_type": "stream",
     "text": [
      "False\n",
      "False\n",
      "True\n"
     ]
    }
   ],
   "source": [
    "#Q4 Write a Python function to check whether a number is in a given range [5,12]\n",
    "def range_checker(v):\n",
    "    return (v in range(5,13))\n",
    "print(range_checker(3))\n",
    "print(range_checker('a'))\n",
    "print(range_checker(7))\n"
   ]
  },
  {
   "cell_type": "code",
   "execution_count": 15,
   "metadata": {},
   "outputs": [
    {
     "data": {
      "text/plain": [
       "[1, 2, 3, 4, 5]"
      ]
     },
     "execution_count": 15,
     "metadata": {},
     "output_type": "execute_result"
    }
   ],
   "source": [
    "#Q5 Write a Python function that takes a list and returns a new list with unique elements of the first\n",
    "Sample_List = [1,2,3,3,3,3,4,5]\n",
    "def find_unique(l):\n",
    "    return(list(set(l)))\n",
    "\n",
    "find_unique(Sample_List)"
   ]
  },
  {
   "cell_type": "code",
   "execution_count": 18,
   "metadata": {},
   "outputs": [
    {
     "name": "stdout",
     "output_type": "stream",
     "text": [
      "True\n",
      "False\n",
      "True\n"
     ]
    }
   ],
   "source": [
    "#Q6 Given a list of numbers, return True if first and last number of a list is same\n",
    "list1=[1,2,5,4,1]\n",
    "list2=[5,6,3,2,1]\n",
    "list3=[88,44,55,66,77,88]\n",
    "\n",
    "def first_last_checker(list1):\n",
    "    return(list1[0] == list1[-1])\n",
    "print(first_last_checker(list1))\n",
    "print(first_last_checker(list2))\n",
    "print(first_last_checker(list3))"
   ]
  },
  {
   "cell_type": "code",
   "execution_count": null,
   "metadata": {},
   "outputs": [],
   "source": []
  }
 ],
 "metadata": {
  "kernelspec": {
   "display_name": "Python 3",
   "language": "python",
   "name": "python3"
  },
  "language_info": {
   "codemirror_mode": {
    "name": "ipython",
    "version": 3
   },
   "file_extension": ".py",
   "mimetype": "text/x-python",
   "name": "python",
   "nbconvert_exporter": "python",
   "pygments_lexer": "ipython3",
   "version": "3.8.5"
  }
 },
 "nbformat": 4,
 "nbformat_minor": 4
}
